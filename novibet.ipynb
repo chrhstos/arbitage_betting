{
 "cells": [
  {
   "cell_type": "code",
   "execution_count": 18,
   "metadata": {},
   "outputs": [],
   "source": [
    "from selenium import webdriver\n",
    "from selenium.webdriver.support.ui import WebDriverWait\n",
    "from selenium.webdriver.support import expected_conditions as EC\n",
    "from selenium.webdriver.common.by import By\n",
    "from selenium.webdriver.common.keys import Keys\n",
    "import time, csv\n",
    "import pandas as pd\n",
    "from selenium.common.exceptions import NoSuchElementException\n",
    "from selenium.webdriver.chrome.service import Service\n",
    "from webdriver_manager.chrome import ChromeDriverManager\n",
    "from selenium.webdriver.support.relative_locator import locate_with"
   ]
  },
  {
   "cell_type": "code",
   "execution_count": null,
   "metadata": {},
   "outputs": [],
   "source": [
    "driver = webdriver.Chrome(ChromeDriverManager().install())"
   ]
  },
  {
   "cell_type": "code",
   "execution_count": 3,
   "metadata": {},
   "outputs": [],
   "source": [
    "page_url = 'https://www.novibet.gr/en/sports'\n",
    "driver.get(page_url)\n",
    "cookies = WebDriverWait(driver,5).until(EC.element_to_be_clickable((By.CLASS_NAME, 'acceptCookies_button'))).click()"
   ]
  },
  {
   "cell_type": "code",
   "execution_count": 4,
   "metadata": {},
   "outputs": [],
   "source": [
    "# Close Log in pop up window\n",
    "x_button = driver.find_element(By.CSS_SELECTOR, '[data-cy=\"closeBtn\"]').click()"
   ]
  },
  {
   "cell_type": "code",
   "execution_count": 6,
   "metadata": {},
   "outputs": [],
   "source": [
    "# Click Daily Coupon\n",
    "dayly_coupon_button = driver.find_element(By.CSS_SELECTOR, 'a.ng-star-inserted[title=\"Daily coupon\"]').click()"
   ]
  },
  {
   "cell_type": "code",
   "execution_count": null,
   "metadata": {},
   "outputs": [],
   "source": [
    "# Wait for the dailyCoupon_body element to be present on the page\n",
    "wait = WebDriverWait(driver, 10)\n",
    "# By deafult is the football first\n",
    "daily_coupon_body = wait.until(EC.presence_of_element_located((By.CLASS_NAME, 'dailyCoupon_body')))\n",
    "\n",
    "# Extract footbal text\n",
    "football_string = daily_coupon_body.text"
   ]
  },
  {
   "cell_type": "code",
   "execution_count": 21,
   "metadata": {},
   "outputs": [],
   "source": [
    "football_string = daily_coupon_text_football"
   ]
  },
  {
   "cell_type": "code",
   "execution_count": 95,
   "metadata": {},
   "outputs": [
    {
     "data": {
      "text/plain": [
       "\"Daily coupon\\nFootball\\nBasketball\\nTennis\\n24 hours\\n12 hours\\n3 hours\\nPopular First\\nArgentina - Liga Profesional\\nVelez Sarsfield\\nCentral Cordoba Santiago\\nWed 02:00\\n1\\n1.74\\nX\\n3.55\\n2\\n5.20\\nO 2.5\\n2.35\\nU 2.5\\n1.59\\nGG\\n2.25\\nNG\\n1.63\\nAfrica - Africa Cup of Nations - Qualification\\nBenin\\nRwanda\\nWed 17:00\\n1\\n1.74\\nX\\n3.45\\n2\\n4.85\\nO 2.5\\n2.25\\nU 2.5\\n1.63\\nGG\\n2.10\\nNG\\n1.68\\nSierra Leone\\nSao Tome and Principe\\nWed 19:00\\n1\\n1.10\\nX\\n7.80\\n2\\n18.50\\nO 3.5\\n1.79\\nU 3.5\\n1.96\\nMarkets are not available\\nEngland - Isthmian Premier Division\\nLewes\\nCanvey Island\\n21:45\\n1\\n2.15\\nX\\n3.45\\n2\\n2.95\\nO 2.5\\n1.87\\nU 2.5\\n1.83\\nGG\\n1.74\\nNG\\n1.97\\nPotters Bar Town FC\\nBognor Regis Town\\n21:45\\n1\\n2.70\\nX\\n3.45\\n2\\n2.25\\nO 2.5\\n1.67\\nU 2.5\\n2.08\\nGG\\n1.57\\nNG\\n2.25\\nEngland - League 1\\nAccrington\\nPlymouth\\n21:45\\n1\\n5.20\\nX\\n3.95\\n2\\n1.65\\nO 2.5\\n1.74\\nU 2.5\\n2.10\\nGG\\n1.75\\nNG\\n2.05\\nBarnsley\\nSheffield Wed\\n22:00\\n1\\n2.85\\nX\\n3.15\\n2\\n2.60\\nO 2.5\\n2.35\\nU 2.5\\n1.59\\nGG\\n2.00\\nNG\\n1.79\\nEngland - National League North\\nBanbury\\nCurzon Ashton FC\\n21:45\\n1\\n2.20\\nX\\n3.55\\n2\\n3.05\\nO 2.5\\n1.86\\nU 2.5\\n1.92\\nGG\\n1.71\\nNG\\n2.06\\nFarsley Celtic FC\\nDarlington\\n21:45\\n1\\n2.85\\nX\\n3.60\\n2\\n2.25\\nO 2.5\\n1.79\\nU 2.5\\n1.99\\nGG\\n1.66\\nNG\\n2.15\\nKings Lynn Town\\nAFC Fylde\\n21:45\\n1\\n2.30\\nX\\n3.55\\n2\\n2.80\\nO 2.5\\n1.76\\nU 2.5\\n2.03\\nGG\\n1.63\\nNG\\n2.20\\nSouthport\\nAlfreton Town FC\\n21:45\\n1\\n2.30\\nX\\n3.45\\n2\\n2.95\\nO 2.5\\n1.95\\nU 2.5\\n1.83\\nGG\\n1.76\\nNG\\n1.99\\nSpennymoor Town\\nLeamington\\n21:45\\n1\\n1.87\\nX\\n3.55\\n2\\n3.95\\nO 2.5\\n1.79\\nU 2.5\\n1.99\\nGG\\n1.70\\nNG\\n2.08\\nEngland - Northern Premier League\\nGainsborough\\nMarine\\n21:45\\n1\\n2.05\\nX\\n3.40\\n2\\n3.15\\nO 2.5\\n1.87\\nU 2.5\\n1.83\\nGG\\n1.74\\nNG\\n1.98\\nMarske United FC\\nLiversedge\\n21:45\\n1\\n2.25\\nX\\n3.45\\n2\\n2.70\\nO 2.5\\n1.56\\nU 2.5\\n2.30\\nGG\\n1.48\\nNG\\n2.45\\nEngland - Southern Premier League - Central\\nAlvechurch\\nBarwell\\n21:45\\n1\\n2.08\\nX\\n3.50\\n2\\n3.00\\nO 2.5\\n1.68\\nU 2.5\\n2.06\\nGG\\n1.60\\nNG\\n2.20\\nBromsgrove Rovers\\nRushden & Diamonds\\n21:45\\n1\\n1.45\\nX\\n4.40\\n2\\n5.45\\nO 2.5\\n1.58\\nU 2.5\\n2.25\\nGG\\n1.74\\nNG\\n1.98\\nStratford Town\\nLeiston FC\\n21:45\\n1\\n3.00\\nX\\n3.50\\n2\\n2.08\\nO 2.5\\n1.72\\nU 2.5\\n2.01\\nGG\\n1.62\\nNG\\n2.15\\nEngland - League 2\\nBradford\\nCarlisle\\n21:45\\n1\\n2.50\\nX\\n3.05\\n2\\n3.10\\nO 2.5\\n2.35\\nU 2.5\\n1.58\\nGG\\n1.95\\nNG\\n1.79\\nCrawley Town\\nDoncaster\\n21:45\\n1\\n2.30\\nX\\n3.45\\n2\\n3.10\\nO 2.5\\n2.01\\nU 2.5\\n1.78\\nGG\\n1.80\\nNG\\n1.95\\nGillingham\\nCrewe\\n21:45\\n1\\n1.71\\nX\\n3.45\\n2\\n5.70\\nO 2.5\\n2.45\\nU 2.5\\n1.54\\nGG\\n2.30\\nNG\\n1.57\\nEngland - Southern Premier League - South\\nChesham United FC\\nPlymouth Parkway\\n21:45\\n1\\n1.90\\nX\\n3.65\\n2\\n3.30\\nO 2.5\\n1.63\\nU 2.5\\n2.15\\nGG\\n1.58\\nNG\\n2.25\\nHanwell Town\\nPoole Town\\n21:45\\n1\\n2.85\\nX\\n3.50\\n2\\n2.15\\nO 2.5\\n1.65\\nU 2.5\\n2.10\\nGG\\n1.56\\nNG\\n2.25\\nHarrow Borough\\nBracknell Town\\n21:45\\n1\\n5.25\\nX\\n4.30\\n2\\n1.47\\nO 2.5\\n1.54\\nU 2.5\\n2.30\\nGG\\n1.67\\nNG\\n2.07\\nMetropolitan Police\\nSwindon Supermarine F.C.\\n21:45\\n1\\n2.70\\nX\\n3.45\\n2\\n2.25\\nO 2.5\\n1.67\\nU 2.5\\n2.08\\nGG\\n1.57\\nNG\\n2.25\\nSalisbury FC\\nHayes & Yeading\\n21:45\\n1\\n3.15\\nX\\n3.65\\n2\\n1.96\\nO 2.5\\n1.63\\nU 2.5\\n2.15\\nGG\\n1.57\\nNG\\n2.25\\nGermany - Oberliga\\nWeiden\\nSV Donaustauf\\nWed 19:30\\n1\\n5.60\\nX\\n4.80\\n2\\n1.40\\nO 3.5\\n1.90\\nU 3.5\\n1.81\\nGG\\n1.52\\nNG\\n2.35\\nCronenberger SC\\n1.FC Monheim\\nWed 20:30\\n1\\n4.30\\nX\\n4.20\\n2\\n1.58\\nO 3.5\\n2.10\\nU 3.5\\n1.66\\nGG\\n1.52\\nNG\\n2.40\\nFSV Duisburg\\nVfB 03 Hilden\\nWed 20:30\\n1\\n13.00\\nX\\n7.00\\n2\\n1.16\\nO 3.5\\n1.97\\nU 3.5\\n1.75\\nMarkets are not available\\nGermania Ratingen\\nSF Hamborn 07\\nWed 20:30\\n1\\n1.51\\nX\\n4.45\\n2\\n4.70\\nO 3.5\\n2.10\\nU 3.5\\n1.65\\nGG\\n1.56\\nNG\\n2.30\\nMSV Dusseldorf\\nKray\\nWed 20:30\\n1\\n1.54\\nX\\n4.45\\n2\\n4.45\\nO 3.5\\n2.07\\nU 3.5\\n1.67\\nGG\\n1.53\\nNG\\n2.35\\nOldenburger SV\\nFC Dornbreite\\nWed 20:30\\n1\\n1.40\\nX\\n4.95\\n2\\n5.45\\nO 3.5\\n1.79\\nU 3.5\\n1.92\\nGG\\n1.48\\nNG\\n2.50\\nSC St Tonis 11/20\\nVelbert\\nWed 20:30\\n1\\n5.00\\nX\\n4.30\\n2\\n1.50\\nO 3.5\\n2.30\\nU 3.5\\n1.56\\nGG\\n1.64\\nNG\\n2.15\\nSC Union Nettetal\\nTSV Meerbusch\\nWed 20:30\\n1\\n4.15\\nX\\n4.05\\n2\\n1.63\\nO 2.5\\n1.54\\nU 2.5\\n2.30\\nGG\\n1.59\\nNG\\n2.20\\nSportfreunde Baumberg\\nVfB Homberg\\nWed 20:30\\n1\\n1.94\\nX\\n3.75\\n2\\n3.15\\nO 3.5\\n2.20\\nU 3.5\\n1.60\\nGG\\n1.46\\nNG\\n2.50\\nSpvg Schonnebeck 1910\\nTuru Dusseldorf\\nWed 20:30\\n1\\n1.69\\nX\\n4.10\\n2\\n3.80\\nO 2.5\\n1.54\\nU 2.5\\n2.30\\nGG\\n1.57\\nNG\\n2.25\\nSV Sonsbeck\\nKleve\\nWed 20:30\\n1\\n3.00\\nX\\n3.95\\n2\\n1.94\\nO 3.5\\n2.30\\nU 3.5\\n1.56\\nGG\\n1.51\\nNG\\n2.40\\nTVD Velbert 1870\\nETB Schwarz Weiss Essen\\nWed 20:30\\n1\\n2.55\\nX\\n3.70\\n2\\n2.25\\nO 3.5\\n2.20\\nU 3.5\\n1.60\\nGG\\n1.45\\nNG\\n2.55\\nWestfalia Rhynern\\nSC Paderborn 07 II\\nWed 20:30\\n1\\n1.96\\nX\\n3.60\\n2\\n3.20\\nO 2.5\\n1.77\\nU 2.5\\n1.94\\nGG\\n1.69\\nNG\\n2.05\\nGermany - Regionalliga\\nVfB Germania Halberstadt e. V.\\nHertha Berlin II\\nWed 20:00\\n1\\n3.45\\nX\\n3.65\\n2\\n1.91\\nO 2.5\\n1.64\\nU 2.5\\n2.15\\nGG\\n1.59\\nNG\\n2.25\\nPortugal - U23 Championship\\nCS Maritimo U23\\nPortimonense U23\\nWed 13:00\\n1\\n2.30\\nX\\n3.50\\n2\\n2.60\\nO 2.5\\n1.63\\nU 2.5\\n2.15\\nGG\\n1.54\\nNG\\n2.30\\nLeixoes SC U23\\nCD Mafra U23\\nWed 17:00\\n1\\n1.68\\nX\\n3.75\\n2\\n4.05\\nO 2.5\\n1.67\\nU 2.5\\n2.08\\nGG\\n1.67\\nNG\\n2.08\\nBelgium - Super League (W)\\nClub Brugge (W)\\nGenk (W)\\nin 17'\\n1\\n1.94\\nX\\n3.60\\n2\\n3.25\\nO 2.5\\n1.67\\nU 2.5\\n2.08\\nGG\\n1.61\\nNG\\n2.20\\nOud-Heverlee Leuven (W)\\nKAA Gent (W)\\nin 17'\\n1\\n1.04\\nX\\n8.80\\n2\\n42.00\\nO 3.5\\n1.94\\nU 3.5\\n1.77\\nMarkets are not available\\nYellow-Red KV Mechelen (W)\\nWhite Star Woluwe (W)\\nin 17'\\n1\\n3.00\\nX\\n3.60\\n2\\n2.04\\nO 2.5\\n1.67\\nU 2.5\\n2.07\\nGG\\n1.60\\nNG\\n2.20\\nPoland - Liga III\\nPolonia Bytom\\nRekord Bielsko Biala\\nWed 16:00\\n1\\n1.80\\nX\\n3.65\\n2\\n3.55\\nO 2.5\\n1.63\\nU 2.5\\n2.15\\nGG\\n1.59\\nNG\\n2.20\\nScotland - League 2\\nAlbion Rovers\\nStranraer\\n21:45\\n1\\n2.30\\nX\\n3.35\\n2\\n2.95\\nO 2.5\\n1.93\\nU 2.5\\n1.84\\nGG\\n1.73\\nNG\\n2.03\\nStirling Albion\\nForfar\\n21:45\\n1\\n1.74\\nX\\n3.65\\n2\\n4.55\\nO 2.5\\n1.91\\nU 2.5\\n1.87\\nGG\\n1.84\\nNG\\n1.90\\nScotland - Championship\\nDundee\\nAyr\\n21:45\\n1\\n1.75\\nX\\n3.95\\n2\\n4.25\\nO 2.5\\n1.63\\nU 2.5\\n2.25\\nGG\\n1.62\\nNG\\n2.20\\nCzech Republic - League U19\\nFC Fastav Zlin U19\\nFC Brno U19\\nWed 12:00\\n1\\n2.85\\nX\\n3.65\\n2\\n2.05\\nO 2.5\\n1.54\\nU 2.5\\n2.30\\nGG\\n1.50\\nNG\\n2.45\\nN. Ireland - NIFL Championship\\nLoughgall\\nAnnagh United\\n21:45\\n1\\n1.68\\nX\\n3.80\\n2\\n4.30\\nO 2.5\\n1.76\\nU 2.5\\n1.99\\nGG\\n1.76\\nNG\\n1.99\\nInstitute\\nBallinamallard United\\n22:00\\n1\\n2.25\\nX\\n3.40\\n2\\n2.85\\nO 2.5\\n1.82\\nU 2.5\\n1.93\\nGG\\n1.68\\nNG\\n2.10\\nSerbia - Prva Liga\\nRad Beograd\\nFK Loznica\\nWed 16:00\\n1\\n1.67\\nX\\n3.45\\n2\\n4.75\\nO 2.5\\n2.15\\nU 2.5\\n1.63\\nGG\\n2.09\\nNG\\n1.66\\nFK Trajal\\nFK Radnicki Beograd\\nWed 18:00\\n1\\n2.07\\nX\\n2.95\\n2\\n3.60\\nO 1.5\\n1.56\\nU 1.5\\n2.25\\nGG\\n2.30\\nNG\\n1.56\\nWales - Cymru Championship\\nAbergavenny Town\\nLlantwit Major\\nin 47'\\n1\\n2.85\\nX\\n3.50\\n2\\n2.15\\nO 2.5\\n1.63\\nU 2.5\\n2.15\\nGG\\n1.54\\nNG\\n2.30\\nAmmanford\\nCambrian & Clydach\\nin 47'\\n1\\n3.10\\nX\\n3.85\\n2\\n1.89\\nO 3.5\\n2.15\\nU 3.5\\n1.64\\nGG\\n1.45\\nNG\\n2.55\\nGoytre United FC\\nBarry Town\\nin 47'\\n1\\n8.40\\nX\\n5.50\\n2\\n1.24\\nO 3.5\\n2.04\\nU 3.5\\n1.69\\nGG\\n1.81\\nNG\\n1.89\\nArgentina - Primera B\\nLos Andes\\nItuzaingo\\n22:05\\n1\\n2.30\\nX\\n2.80\\n2\\n3.55\\nO 1.5\\n1.69\\nU 1.5\\n2.15\\nGG\\n2.40\\nNG\\n1.52\\nBrazil - Campeonato Catarinense\\nCriciuma\\nAvai\\nWed 02:00\\n1\\n2.00\\nX\\n3.25\\n2\\n3.55\\nO 2.5\\n2.35\\nU 2.5\\n1.55\\nGG\\n2.09\\nNG\\n1.69\\nBrazil - Campeonato Paulista A2\\nPonte Preta\\nComercial SP\\nWed 00:00\\n1\\n1.44\\nX\\n4.10\\n2\\n6.10\\nO 2.5\\n1.78\\nU 2.5\\n1.93\\nGG\\n1.95\\nNG\\n1.76\\nEC Noroeste SP\\nAE Velo Clube SP\\nWed 02:00\\n1\\n1.98\\nX\\n3.35\\n2\\n3.35\\nO 2.5\\n1.84\\nU 2.5\\n1.86\\nGG\\n1.72\\nNG\\n2.01\\nMexico - Liga de Expansion MX\\nTepatitlan De Morelos\\nCancun FC\\nWed 01:05\\n1\\n2.09\\nX\\n3.40\\n2\\n3.45\\nO 2.5\\n2.10\\nU 2.5\\n1.71\\nGG\\n1.89\\nNG\\n1.85\\nMineros de Zacatecas\\nAlebrijes de Oaxaca\\nWed 03:05\\n1\\n1.84\\nX\\n4.00\\n2\\n3.75\\nO 2.5\\n1.65\\nU 2.5\\n2.20\\nGG\\n1.62\\nNG\\n2.20\\nCimarrones de Sonora\\nClub Celaya\\nWed 05:05\\n1\\n2.20\\nX\\n3.40\\n2\\n3.25\\nO 2.5\\n2.25\\nU 2.5\\n1.63\\nGG\\n1.99\\nNG\\n1.77\\nClub Atletico La Paz\\nDorados\\nWed 05:05\\n1\\n1.79\\nX\\n3.75\\n2\\n4.25\\nO 2.5\\n1.80\\nU 2.5\\n1.98\\nGG\\n1.74\\nNG\\n2.01\\nUSA - Open Cup\\nWest Chester United SC\\nOcean City Nor'easters\\nWed 01:30\\n1\\n1.84\\nX\\n4.00\\n2\\n3.65\\nO 3.5\\n1.93\\nU 3.5\\n1.85\\nGG\\n1.38\\nNG\\n2.90\\nColombia - Primera B\\nAtletico FC\\nCortulua\\nWed 00:30\\n1\\n3.10\\nX\\n3.30\\n2\\n2.15\\nO 2.5\\n1.96\\nU 2.5\\n1.78\\nGG\\n1.79\\nNG\\n1.96\\nEcuador - Serie B\\nCuniburo FC\\nAmerica de Quito\\nWed 02:00\\n1\\n3.50\\nX\\n3.15\\n2\\n2.00\\nO 2.5\\n2.25\\nU 2.5\\n1.57\\nGG\\n2.01\\nNG\\n1.72\\nColombia - Primera A\\nIndependiente Santa Fe\\nDeportivo Cali\\nWed 03:00\\n1\\n1.89\\nX\\n3.40\\n2\\n4.40\\nO 2.5\\n2.25\\nU 2.5\\n1.63\\nGG\\n2.03\\nNG\\n1.73\\nColombia - Liga Femenina\\nIndependiente Santa Fe (W)\\nDeportes Tolima (W)\\nWed 00:00\\n1\\n1.14\\nX\\n6.40\\n2\\n15.75\\nO 3.5\\n2.20\\nU 3.5\\n1.59\\nGG\\n2.40\\nNG\\n1.50\\nAlgeria - Cup\\nUS Chaouia\\nCR Belouizdad\\nWed 15:00\\n1\\n11.25\\nX\\n5.80\\n2\\n1.21\\nO 2.5\\n1.59\\nU 2.5\\n2.25\\nGG\\n2.25\\nNG\\n1.60\\nWorld - International Friendlies\\nEngland C\\nWales C\\n21:45\\n1\\n1.74\\nX\\n3.95\\n2\\n3.70\\nO 2.5\\n1.57\\nU 2.5\\n2.25\\nGG\\n1.58\\nNG\\n2.25\\nEurope - EURO U19 - Qualification\\nCzech Republic U19\\nCroatia U19\\nWed 13:00\\n1\\n2.85\\nX\\n3.55\\n2\\n2.20\\nO 2.5\\n1.69\\nU 2.5\\n2.10\\nGG\\n1.59\\nNG\\n2.25\\nGermany U19\\nItaly U19\\nWed 13:00\\n1\\n1.96\\nX\\n3.65\\n2\\n3.30\\nO 2.5\\n1.73\\nU 2.5\\n2.03\\nGG\\n1.66\\nNG\\n2.15\\nIsrael U19\\nPoland U19\\nWed 15:00\\n1\\n2.70\\nX\\n3.20\\n2\\n2.45\\nO 2.5\\n1.85\\nU 2.5\\n1.89\\nGG\\n1.67\\nNG\\n2.15\\nIceland U19\\nTurkey U19\\nWed 16:00\\n1\\n3.65\\nX\\n3.75\\n2\\n1.82\\nO 2.5\\n1.69\\nU 2.5\\n2.10\\nGG\\n1.65\\nNG\\n2.15\\nNorway U19\\nRomania U19\\nWed 16:00\\n1\\n1.81\\nX\\n3.55\\n2\\n3.90\\nO 2.5\\n1.95\\nU 2.5\\n1.79\\nGG\\n1.86\\nNG\\n1.87\\nBelgium U19\\nSlovenia U19\\nWed 17:00\\n1\\n1.73\\nX\\n3.85\\n2\\n4.00\\nO 2.5\\n1.64\\nU 2.5\\n2.15\\nGG\\n1.64\\nNG\\n2.15\\nIreland U19\\nSlovakia U19\\nWed 17:30\\n1\\n1.98\\nX\\n3.65\\n2\\n3.20\\nO 2.5\\n1.78\\nU 2.5\\n1.97\\nGG\\n1.70\\nNG\\n2.08\\nDenmark U19\\nSpain U19\\nWed 18:00\\n1\\n4.75\\nX\\n4.30\\n2\\n1.54\\nO 3.5\\n2.25\\nU 3.5\\n1.61\\nGG\\n1.59\\nNG\\n2.25\\nFrance U19\\nN. Ireland U19\\nWed 19:00\\n1\\n1.13\\nX\\n6.90\\n2\\n16.50\\nO 3.5\\n2.06\\nU 3.5\\n1.71\\nMarkets are not available\\nPortugal U19\\nSweden U19\\nWed 20:00\\n1\\n1.42\\nX\\n4.40\\n2\\n6.20\\nO 2.5\\n1.57\\nU 2.5\\n2.30\\nGG\\n1.75\\nNG\\n2.00\\nEurope - Champions League (W)\\nAS Roma (W)\\nBarcelona (W)\\n22:00\\n1\\n13.25\\nX\\n7.20\\n2\\n1.14\\nO 3.5\\n1.68\\nU 3.5\\n2.10\\nMarkets are not available\\nOlympique Lyon (W)\\nChelsea (W)\\nWed 19:45\\n1\\n2.15\\nX\\n3.50\\n2\\n3.10\\nO 2.5\\n1.88\\nU 2.5\\n1.90\\nGG\\n1.72\\nNG\\n2.04\\nWorld - Youth Friendlies\\nSlovenia U21\\nSlovakia U21\\nWed 17:00\\n1\\n2.30\\nX\\n3.15\\n2\\n2.80\\nO 2.5\\n2.07\\nU 2.5\\n1.67\\nGG\\n1.84\\nNG\\n1.86\\nUSA U20\\nFrance U20\\nWed 17:00\\n1\\n4.10\\nX\\n3.70\\n2\\n1.68\\nO 2.5\\n1.65\\nU 2.5\\n2.10\\nGG\\n1.65\\nNG\\n2.10\\nЅimulated Reality League - SRL Friendlies\\nFC Metz (SRL)\\nLecce (SRL)\\nWed 10:00\\n1\\n1.72\\nX\\n3.70\\n2\\n4.40\\nO 2.5\\n1.92\\nU 2.5\\n1.82\\nGG\\n1.86\\nNG\\n1.84\\nVillareal (SRL)\\nVFL Wolfsburg (SRL)\\nWed 11:00\\n1\\n2.50\\nX\\n3.20\\n2\\n2.75\\nO 2.5\\n1.94\\nU 2.5\\n1.81\\nGG\\n1.71\\nNG\\n2.02\\nGenoa Cfc (SRL)\\nOGC Nice (SRL)\\nWed 12:00\\n1\\n2.75\\nX\\n3.15\\n2\\n2.55\\nO 2.5\\n2.07\\nU 2.5\\n1.70\\nGG\\n1.80\\nNG\\n1.91\\nLazio Roma (SRL)\\nTottenham (SRL)\\nWed 13:00\\n1\\n3.05\\nX\\n3.60\\n2\\n2.10\\nO 2.5\\n1.67\\nU 2.5\\n2.15\\nGG\\n1.58\\nNG\\n2.25\\nClub Nacional de Football (SRL)\\nBournemouth (SRL)\\nWed 14:00\\n1\\n3.20\\nX\\n3.20\\n2\\n2.20\\nO 2.5\\n2.20\\nU 2.5\\n1.62\\nGG\\n1.93\\nNG\\n1.78\\nFreiburg (SRL)\\nReal Betis Balompie (SRL)\\nWed 15:00\\n1\\n3.35\\nX\\n3.55\\n2\\n2.01\\nO 2.5\\n1.89\\nU 2.5\\n1.85\\nGG\\n1.75\\nNG\\n1.96\\nЕsports - GT League (2x6 mins)\\nAC Milan (Rafa) Esports\\nInter Milan (Spex) Esports\\n22:30\\n1\\n2.80\\nX\\n4.40\\n2\\n1.90\\nO 4.5\\n2.10\\nU 4.5\\n1.65\\nMarkets are not available\\nInter Milan (Spex) Esports\\nAC Milan (Rafa) Esports\\n23:45\\n1\\n1.90\\nX\\n4.40\\n2\\n2.80\\nO 4.5\\n2.10\\nU 4.5\\n1.65\\nMarkets are not available\\nGalatasaray (Val) Esports\\nIstanbul Basaksehir FK (Spex) Esports\\nWed 00:30\\n1\\n4.10\\nX\\n4.25\\n2\\n1.58\\nO 3.5\\n1.79\\nU 3.5\\n1.92\\nMarkets are not available\\nTrabzonspor (Rafa) Esports\\nIstanbul Basaksehir FK (Spex) Esports\\nWed 01:00\\n1\\n2.80\\nX\\n4.40\\n2\\n1.90\\nO 4.5\\n2.10\\nU 4.5\\n1.65\\nMarkets are not available\\nIstanbul Basaksehir FK (Spex) Esports\\nBesiktas Istanbul (Lio) Esports\\nWed 01:30\\n1\\n1.53\\nX\\n4.90\\n2\\n4.00\\nO 4.5\\n1.94\\nU 4.5\\n1.77\\nMarkets are not available\\nIstanbul Basaksehir FK (Spex) Esports\\nGalatasaray (Val) Esports\\nWed 02:00\\n1\\n1.58\\nX\\n4.30\\n2\\n4.10\\nO 3.5\\n1.79\\nU 3.5\\n1.92\\nMarkets are not available\\nGalatasaray (Val) Esports\\nBesiktas Istanbul (Lio) Esports\\nWed 02:30\\n1\\n2.60\\nX\\n4.55\\n2\\n1.97\\nO 4.5\\n1.87\\nU 4.5\\n1.84\\nMarkets are not available\\nIstanbul Basaksehir FK (Spex) Esports\\nTrabzonspor (Rafa) Esports\\nWed 02:30\\n1\\n1.90\\nX\\n4.40\\n2\\n2.80\\nO 4.5\\n2.10\\nU 4.5\\n1.65\\nMarkets are not available\\nBesiktas Istanbul (Lio) Esports\\nIstanbul Basaksehir FK (Spex) Esports\\nWed 03:00\\n1\\n4.00\\nX\\n4.90\\n2\\n1.53\\nO 4.5\\n1.94\\nU 4.5\\n1.77\\nMarkets are not available\\nReal Madrid (Val) Esports\\nAC Milan (Spex) Esports\\nWed 03:15\\n1\\n4.10\\nX\\n4.30\\n2\\n1.58\\nO 3.5\\n1.79\\nU 3.5\\n1.92\\nMarkets are not available\\nFC Bayern Munich (Rafa) Esports\\nAC Milan (Spex) Esports\\nWed 03:45\\n1\\n2.80\\nX\\n4.40\\n2\\n1.90\\nO 4.5\\n2.10\\nU 4.5\\n1.65\\nMarkets are not available\\nFC Inter Milano (Lio) Esports\\nReal Madrid (Val) Esports\\nWed 03:45\\n1\\n1.97\\nX\\n4.55\\n2\\n2.60\\nO 4.5\\n1.87\\nU 4.5\\n1.84\\nMarkets are not available\\nChile - Primera B\\nSantiago Wanderers\\nUnion San Felipe\\n23:00\\n1\\n1.90\\nX\\n3.40\\n2\\n4.05\\nO 2.5\\n2.10\\nU 2.5\\n1.70\\nGG\\n1.93\\nNG\\n1.81\\nEngland - National League South\\nChippenham\\nWeymouth\\n21:45\\n1\\n2.30\\nX\\n3.30\\n2\\n3.05\\nO 2.5\\n2.04\\nU 2.5\\n1.76\\nGG\\n1.81\\nNG\\n1.94\\nFarnborough\\nSlough\\n21:45\\n1\\n1.61\\nX\\n3.90\\n2\\n5.30\\nO 2.5\\n2.10\\nU 2.5\\n1.70\\nGG\\n2.15\\nNG\\n1.66\\nSt. Albans\\nCheshunt\\n21:45\\n1\\n1.49\\nX\\n4.40\\n2\\n5.90\\nO 2.5\\n1.79\\nU 2.5\\n1.99\\nGG\\n1.94\\nNG\\n1.80\\nWelling\\nTaunton Town FC\\n21:45\\n1\\n2.15\\nX\\n3.30\\n2\\n3.30\\nO 2.5\\n2.20\\nU 2.5\\n1.65\\nGG\\n1.93\\nNG\\n1.81\\nBrazil - Campeonato Brasileiro U20\\nFluminense U20\\nInternacional U20\\nWed 01:00\\n1\\n2.60\\nX\\n3.05\\n2\\n2.60\\nO 2.5\\n1.97\\nU 2.5\\n1.75\\nGG\\n1.73\\nNG\\n1.99\""
      ]
     },
     "execution_count": 95,
     "metadata": {},
     "output_type": "execute_result"
    }
   ],
   "source": [
    "football_string"
   ]
  },
  {
   "cell_type": "code",
   "execution_count": 106,
   "metadata": {},
   "outputs": [],
   "source": [
    "# Create list from the initial string\n",
    "initial_list = football_string.split('\\n')\n",
    "\n",
    "# Remove first elements of the list not needed\n",
    "remove_elements = ['Daily coupon','Football','Tennis','Basketball',\n",
    "                   '24 hours','12 hours','3 hours','Popular First',\n",
    "                   'Markets are not available']\n",
    "\n",
    "football_list = [x for x in initial_list if x not in remove_elements]"
   ]
  },
  {
   "cell_type": "code",
   "execution_count": 107,
   "metadata": {},
   "outputs": [],
   "source": [
    "# Create sublists of based on Championship\n",
    "championship = [x for x in football_list if ' - ' in x]\n",
    "index_championship = [i for i,x in enumerate(football_list) if ' - ' in x]\n",
    "sublists_championships = [football_list[i:j] for i, j in zip([0]+index_championship, index_championship + [len(football_list)])]"
   ]
  },
  {
   "cell_type": "code",
   "execution_count": 115,
   "metadata": {},
   "outputs": [
    {
     "data": {
      "text/plain": [
       "['England - National League North',\n",
       " 'Banbury',\n",
       " 'Curzon Ashton FC',\n",
       " '21:45',\n",
       " '1',\n",
       " '2.20',\n",
       " 'X',\n",
       " '3.55',\n",
       " '2',\n",
       " '3.05',\n",
       " 'O 2.5',\n",
       " '1.86',\n",
       " 'U 2.5',\n",
       " '1.92',\n",
       " 'GG',\n",
       " '1.71',\n",
       " 'NG',\n",
       " '2.06',\n",
       " 'Farsley Celtic FC',\n",
       " 'Darlington',\n",
       " '21:45',\n",
       " '1',\n",
       " '2.85',\n",
       " 'X',\n",
       " '3.60',\n",
       " '2',\n",
       " '2.25',\n",
       " 'O 2.5',\n",
       " '1.79',\n",
       " 'U 2.5',\n",
       " '1.99',\n",
       " 'GG',\n",
       " '1.66',\n",
       " 'NG',\n",
       " '2.15',\n",
       " 'Kings Lynn Town',\n",
       " 'AFC Fylde',\n",
       " '21:45',\n",
       " '1',\n",
       " '2.30',\n",
       " 'X',\n",
       " '3.55',\n",
       " '2',\n",
       " '2.80',\n",
       " 'O 2.5',\n",
       " '1.76',\n",
       " 'U 2.5',\n",
       " '2.03',\n",
       " 'GG',\n",
       " '1.63',\n",
       " 'NG',\n",
       " '2.20',\n",
       " 'Southport',\n",
       " 'Alfreton Town FC',\n",
       " '21:45',\n",
       " '1',\n",
       " '2.30',\n",
       " 'X',\n",
       " '3.45',\n",
       " '2',\n",
       " '2.95',\n",
       " 'O 2.5',\n",
       " '1.95',\n",
       " 'U 2.5',\n",
       " '1.83',\n",
       " 'GG',\n",
       " '1.76',\n",
       " 'NG',\n",
       " '1.99',\n",
       " 'Spennymoor Town',\n",
       " 'Leamington',\n",
       " '21:45',\n",
       " '1',\n",
       " '1.87',\n",
       " 'X',\n",
       " '3.55',\n",
       " '2',\n",
       " '3.95',\n",
       " 'O 2.5',\n",
       " '1.79',\n",
       " 'U 2.5',\n",
       " '1.99',\n",
       " 'GG',\n",
       " '1.70',\n",
       " 'NG',\n",
       " '2.08']"
      ]
     },
     "execution_count": 115,
     "metadata": {},
     "output_type": "execute_result"
    }
   ],
   "source": [
    "sublists_championships[5]"
   ]
  },
  {
   "cell_type": "code",
   "execution_count": 116,
   "metadata": {},
   "outputs": [],
   "source": [
    "teams1 = []\n",
    "teams2 = []\n",
    "odds_gg = []\n",
    "odds_ng = []\n",
    "\n",
    "for i in range(0, len(sublists_championships[5]), 18):\n",
    "    # extract team names and odds for 1x2 market\n",
    "    team1, team2, _, _, odds1, _, oddsX, _, odds2, *rest = sublists_championships[5][i:i+18]\n",
    "    \n",
    "    # check if 'GG' and 'NG' elements are present\n",
    "    if 'GG' in rest:\n",
    "        odds_gg.append(rest[rest.index('GG')+1])\n",
    "    else:\n",
    "        odds_gg.append(None)\n",
    "    if 'NG' in rest:\n",
    "        odds_ng.append(rest[rest.index('NG')+1])\n",
    "    else:\n",
    "        odds_ng.append(None)\n",
    "    \n",
    "    # append team names to respective lists\n",
    "    teams1.append(team1)\n",
    "    teams2.append(team2)"
   ]
  },
  {
   "cell_type": "code",
   "execution_count": null,
   "metadata": {},
   "outputs": [],
   "source": []
  },
  {
   "cell_type": "code",
   "execution_count": 15,
   "metadata": {},
   "outputs": [],
   "source": [
    "import re\n",
    "\n",
    "championship_pattern = r'(?<=Popular First\\n).*?(?=\\n)'\n",
    "teams_pattern = r'(?<=\\n)[A-Za-z\\s]+\\n[A-Za-z\\s]+\\n'\n",
    "time_pattern = r'\\b(?:Mon|Tue|Wed|Thu|Fri|Sat|Sun)[\\s\\d]{1,2}:[\\d]{2}\\b'\n",
    "bet_categories_pattern = r'(?:1|X|2|O[\\s\\d\\.]+|U[\\s\\d\\.]+|GG|NG)(?=\\n)'\n",
    "\n",
    "# extract the information using regex\n",
    "championship = re.search(championship_pattern, daily_coupon_text).group().strip()\n",
    "teams = re.findall(teams_pattern, daily_coupon_text)\n",
    "time = re.findall(time_pattern, daily_coupon_text)\n",
    "bet_categories = re.findall(bet_categories_pattern, daily_coupon_text)\n",
    "\n",
    "# extract the odds\n",
    "odds_pattern = r'[\\d]+\\.[\\d]+'\n",
    "odds = []\n",
    "for i in range(len(teams)):\n",
    "    odds.append(re.findall(odds_pattern, daily_coupon_text.split(teams[i])[1])[0:7])"
   ]
  },
  {
   "cell_type": "code",
   "execution_count": 17,
   "metadata": {},
   "outputs": [
    {
     "data": {
      "text/plain": [
       "['Football\\nBasketball\\nTennis\\n',\n",
       " 'Velez Sarsfield\\nCentral Cordoba Santiago\\n',\n",
       " 'Benin\\nRwanda\\n',\n",
       " 'Sierra Leone\\nSao Tome and Principe\\n',\n",
       " 'Lewes\\nCanvey Island\\n',\n",
       " 'Potters Bar Town FC\\nBognor Regis Town\\n',\n",
       " 'Accrington\\nPlymouth\\n',\n",
       " 'Barnsley\\nSheffield Wed\\n',\n",
       " 'Banbury\\nCurzon Ashton FC\\n',\n",
       " 'Farsley Celtic FC\\nDarlington\\n',\n",
       " 'Kings Lynn Town\\nAFC Fylde\\n',\n",
       " 'Southport\\nAlfreton Town FC\\n',\n",
       " 'Spennymoor Town\\nLeamington\\n',\n",
       " 'Gainsborough\\nMarine\\n',\n",
       " 'Marske United FC\\nLiversedge\\n',\n",
       " 'Alvechurch\\nBarwell\\n',\n",
       " 'Stratford Town\\nLeiston FC\\n',\n",
       " 'Bradford\\nCarlisle\\n',\n",
       " 'Crawley Town\\nDoncaster\\n',\n",
       " 'Gillingham\\nCrewe\\n',\n",
       " 'Chesham United FC\\nPlymouth Parkway\\n',\n",
       " 'Hanwell Town\\nPoole Town\\n',\n",
       " 'Harrow Borough\\nBracknell Town\\n',\n",
       " 'Weiden\\nSV Donaustauf\\n',\n",
       " 'Markets are not available\\nGermania Ratingen\\n',\n",
       " 'MSV Dusseldorf\\nKray\\n',\n",
       " 'Oldenburger SV\\nFC Dornbreite\\n',\n",
       " 'SC Union Nettetal\\nTSV Meerbusch\\n',\n",
       " 'Sportfreunde Baumberg\\nVfB Homberg\\n',\n",
       " 'SV Sonsbeck\\nKleve\\n',\n",
       " 'Polonia Bytom\\nRekord Bielsko Biala\\n',\n",
       " 'Albion Rovers\\nStranraer\\n',\n",
       " 'Stirling Albion\\nForfar\\n',\n",
       " 'Dundee\\nAyr\\n',\n",
       " 'Loughgall\\nAnnagh United\\n',\n",
       " 'Institute\\nBallinamallard United\\n',\n",
       " 'Rad Beograd\\nFK Loznica\\n',\n",
       " 'FK Trajal\\nFK Radnicki Beograd\\n',\n",
       " 'Abergavenny Town\\nLlantwit Major\\n',\n",
       " 'Goytre United FC\\nBarry Town\\n',\n",
       " 'Los Andes\\nItuzaingo\\n',\n",
       " 'Criciuma\\nAvai\\n',\n",
       " 'Ponte Preta\\nComercial SP\\n',\n",
       " 'EC Noroeste SP\\nAE Velo Clube SP\\n',\n",
       " 'Tepatitlan De Morelos\\nCancun FC\\n',\n",
       " 'Mineros de Zacatecas\\nAlebrijes de Oaxaca\\n',\n",
       " 'Cimarrones de Sonora\\nClub Celaya\\n',\n",
       " 'Club Atletico La Paz\\nDorados\\n',\n",
       " 'Atletico FC\\nCortulua\\n',\n",
       " 'Cuniburo FC\\nAmerica de Quito\\n',\n",
       " 'Independiente Santa Fe\\nDeportivo Cali\\n',\n",
       " 'US Chaouia\\nCR Belouizdad\\n',\n",
       " 'England C\\nWales C\\n',\n",
       " 'Santiago Wanderers\\nUnion San Felipe\\n',\n",
       " 'Chippenham\\nWeymouth\\n',\n",
       " 'Farnborough\\nSlough\\n',\n",
       " 'Welling\\nTaunton Town FC\\n']"
      ]
     },
     "execution_count": 17,
     "metadata": {},
     "output_type": "execute_result"
    }
   ],
   "source": [
    "teams"
   ]
  }
 ],
 "metadata": {
  "kernelspec": {
   "display_name": "base",
   "language": "python",
   "name": "python3"
  },
  "language_info": {
   "codemirror_mode": {
    "name": "ipython",
    "version": 3
   },
   "file_extension": ".py",
   "mimetype": "text/x-python",
   "name": "python",
   "nbconvert_exporter": "python",
   "pygments_lexer": "ipython3",
   "version": "3.8.12"
  },
  "orig_nbformat": 4
 },
 "nbformat": 4,
 "nbformat_minor": 2
}
