{
 "cells": [
  {
   "cell_type": "code",
   "execution_count": 1,
   "metadata": {},
   "outputs": [],
   "source": [
    "import novibet_functions as nv\n",
    "import stoiximan_function as stm\n",
    "import queries as sq\n",
    "import pandas as pd\n",
    "import duckdb\n",
    "from unidecode import unidecode\n",
    "from selenium import webdriver\n",
    "from webdriver_manager.chrome import ChromeDriverManager"
   ]
  },
  {
   "attachments": {},
   "cell_type": "markdown",
   "metadata": {},
   "source": [
    "## Scrapping"
   ]
  },
  {
   "cell_type": "code",
   "execution_count": 2,
   "metadata": {},
   "outputs": [
    {
     "name": "stderr",
     "output_type": "stream",
     "text": [
      "[WDM] - Downloading: 100%|██████████| 6.79M/6.79M [00:00<00:00, 7.99MB/s]\n",
      "C:\\Users\\panag\\AppData\\Local\\Temp/ipykernel_19728/2731851925.py:8: DeprecationWarning: executable_path has been deprecated, please pass in a Service object\n",
      "  driver = webdriver.Chrome(ChromeDriverManager().install(), options = options)\n"
     ]
    }
   ],
   "source": [
    "# Set options for headless mode\n",
    "options = webdriver.ChromeOptions()\n",
    "options.add_argument(\"--headless\")\n",
    "# Set options for window size\n",
    "options.add_argument(\"--window-size=1920,1200\")\n",
    "\n",
    "# Initialize the webdriver\n",
    "driver = webdriver.Chrome(ChromeDriverManager().install(), options = options)"
   ]
  },
  {
   "attachments": {},
   "cell_type": "markdown",
   "metadata": {},
   "source": [
    "### 1. Novibet data\n",
    "\n",
    "Novibet acts different with headless mode. It returns also the extra bets (+ XX). \n",
    "\n",
    "If I use the open mode I want to refactor the code."
   ]
  },
  {
   "cell_type": "code",
   "execution_count": 3,
   "metadata": {},
   "outputs": [],
   "source": [
    "page_url = 'https://www.novibet.gr/en/sports'\n",
    "\n",
    "# Football\n",
    "football_string = nv.novibet_football_text(page_url, driver)\n",
    "nv.novibet_football_export(football_string)\n",
    "\n",
    "# Basketball\n",
    "basketball_string = nv.novibet_basketball_text(driver)\n",
    "nv.novibet_basketball_export(basketball_string)\n",
    "\n",
    "# Tennis\n",
    "tennis_string = nv.novibet_tennis_text(driver)\n",
    "nv.novibet_tennis_export(tennis_string)"
   ]
  },
  {
   "attachments": {},
   "cell_type": "markdown",
   "metadata": {},
   "source": [
    "### 2. Stoiximan data"
   ]
  },
  {
   "cell_type": "code",
   "execution_count": 4,
   "metadata": {},
   "outputs": [],
   "source": [
    "# Football\n",
    "football_url = 'https://en.stoiximan.gr/sport/soccer/'\n",
    "football_string = stm.stoiximan_football_text(football_url, driver)\n",
    "stm.stoiximan_football_export(football_string)\n",
    "\n",
    "# Basketball\n",
    "basketball_url = 'https://en.stoiximan.gr/sport/basketball/'\n",
    "basketball_string = stm.stoiximan_basketball_text(basketball_url, driver)\n",
    "stm.stoiximan_basketball_export(basketball_string)\n",
    "\n",
    "# Tennis\n",
    "tennis_url = 'https://en.stoiximan.gr/sport/tennis/'\n",
    "tennis_string = stm.stoiximan_tennis_text(tennis_url, driver)\n",
    "stm.stoiximan_tennis_export(tennis_string)"
   ]
  },
  {
   "attachments": {},
   "cell_type": "markdown",
   "metadata": {},
   "source": [
    "## Calculations\n",
    "\n",
    "Functions:\n",
    "* Replace Unicode Character\n",
    "* Remove Single/Double words \n",
    "* Query a dataframe "
   ]
  },
  {
   "cell_type": "code",
   "execution_count": null,
   "metadata": {},
   "outputs": [],
   "source": [
    "def remove_unicode(df: pd.DataFrame)->pd.DataFrame:\n",
    "    cleaned_df = df.apply(lambda x: unidecode(x) if isinstance(x, str) else x)\n",
    "    return cleaned_df\n",
    "\n",
    "def remove_single_double_words(df: pd.DataFrame)->pd.DataFrame:\n",
    "    cleaned_df = df.apply(lambda x: ' '.join([word for word in x.split() if len(set(word)) > 2]) if isinstance(x, str) else x)\n",
    "    return cleaned_df\n",
    "\n",
    "def dbrun(dbcon: duckdb.DuckDBPyConnection, query: str, df1: pd.DataFrame, df2: pd.DataFrame = None) -> pd.DataFrame:\n",
    "    \"\"\"Run the query with duckdb\"\"\"\n",
    "    # Register the 1st DataFrame as a DuckDB table\n",
    "    dbcon.register('table1', df1)\n",
    "    # Register the second dataframe as a DuckDB table (if provided)\n",
    "    if df2 is not None:\n",
    "        dbcon.register('table2', df2)\n",
    "    # Execute the query on the DuckDB table\n",
    "    result = dbcon.query(query).to_df().drop_duplicates()\n",
    "    return result"
   ]
  },
  {
   "attachments": {},
   "cell_type": "markdown",
   "metadata": {},
   "source": [
    "### 1. Football teams process"
   ]
  },
  {
   "cell_type": "code",
   "execution_count": 47,
   "metadata": {},
   "outputs": [],
   "source": [
    "# Import\n",
    "football_novibet = pd.read_csv('data/novibet_football.csv')\n",
    "football_stoiximan = pd.read_csv('data/stoiximan_football.csv')\n",
    "\n",
    "\n",
    "# Remove unicodes from teams names\n",
    "football_novibet['Team1'] = remove_unicode(football_novibet['Team1'].astype(str)).str.lower()\n",
    "football_novibet['Team2'] = remove_unicode(football_novibet['Team2'].astype(str)).str.lower()\n",
    "football_stoiximan['Team1'] = remove_unicode(football_stoiximan['Team1'].astype(str)).str.lower()\n",
    "football_stoiximan['Team2'] = remove_unicode(football_stoiximan['Team2'].astype(str)).str.lower()\n",
    "\n",
    "# Remove single/double words from teams names\n",
    "football_novibet['Team1'] = remove_single_double_words(football_novibet['Team1'].astype(str)).str.lower()\n",
    "football_novibet['Team2'] = remove_single_double_words(football_novibet['Team2'].astype(str)).str.lower()\n",
    "football_stoiximan['Team1'] = remove_single_double_words(football_stoiximan['Team1'].astype(str)).str.lower()\n",
    "football_stoiximan['Team2'] = remove_single_double_words(football_stoiximan['Team2'].astype(str)).str.lower()\n",
    "\n",
    "# DuckDB connection\n",
    "dbcon = duckdb.connect()"
   ]
  },
  {
   "attachments": {},
   "cell_type": "markdown",
   "metadata": {},
   "source": [
    "#### 1.1 Football (Over-Under)"
   ]
  },
  {
   "cell_type": "code",
   "execution_count": 4,
   "metadata": {},
   "outputs": [
    {
     "data": {
      "text/html": [
       "<div>\n",
       "<style scoped>\n",
       "    .dataframe tbody tr th:only-of-type {\n",
       "        vertical-align: middle;\n",
       "    }\n",
       "\n",
       "    .dataframe tbody tr th {\n",
       "        vertical-align: top;\n",
       "    }\n",
       "\n",
       "    .dataframe thead th {\n",
       "        text-align: right;\n",
       "    }\n",
       "</style>\n",
       "<table border=\"1\" class=\"dataframe\">\n",
       "  <thead>\n",
       "    <tr style=\"text-align: right;\">\n",
       "      <th></th>\n",
       "      <th>Team1</th>\n",
       "      <th>Team2</th>\n",
       "      <th>O_novibet</th>\n",
       "      <th>U_novibet</th>\n",
       "      <th>O_stoiximan</th>\n",
       "      <th>U_stoiximan</th>\n",
       "      <th>O_max</th>\n",
       "      <th>U_max</th>\n",
       "      <th>arb</th>\n",
       "      <th>Team1_novibet</th>\n",
       "      <th>Team2_novibet</th>\n",
       "      <th>Team1_stoiximan</th>\n",
       "      <th>Team2_stoiximan</th>\n",
       "    </tr>\n",
       "  </thead>\n",
       "  <tbody>\n",
       "    <tr>\n",
       "      <th>0</th>\n",
       "      <td>richards bay</td>\n",
       "      <td>orlando pirates</td>\n",
       "      <td>2.45</td>\n",
       "      <td>1.52</td>\n",
       "      <td>1.88</td>\n",
       "      <td>1.82</td>\n",
       "      <td>2.45</td>\n",
       "      <td>1.82</td>\n",
       "      <td>0.957614</td>\n",
       "      <td>richards bay</td>\n",
       "      <td>orlando pirates</td>\n",
       "      <td>NaN</td>\n",
       "      <td>orlando pirates</td>\n",
       "    </tr>\n",
       "    <tr>\n",
       "      <th>1</th>\n",
       "      <td>lechia gdansk</td>\n",
       "      <td>slask wroclaw</td>\n",
       "      <td>2.04</td>\n",
       "      <td>1.76</td>\n",
       "      <td>1.62</td>\n",
       "      <td>2.12</td>\n",
       "      <td>2.04</td>\n",
       "      <td>2.12</td>\n",
       "      <td>0.961894</td>\n",
       "      <td>lechia gdansk</td>\n",
       "      <td>slask wroclaw</td>\n",
       "      <td>NaN</td>\n",
       "      <td>slask wroclaw</td>\n",
       "    </tr>\n",
       "    <tr>\n",
       "      <th>2</th>\n",
       "      <td>chrobry glogow</td>\n",
       "      <td>miedz legnica</td>\n",
       "      <td>1.65</td>\n",
       "      <td>2.10</td>\n",
       "      <td>2.05</td>\n",
       "      <td>1.72</td>\n",
       "      <td>2.05</td>\n",
       "      <td>2.10</td>\n",
       "      <td>0.963995</td>\n",
       "      <td>chrobry glogow</td>\n",
       "      <td>miedz legnica</td>\n",
       "      <td>NaN</td>\n",
       "      <td>miedz legnica</td>\n",
       "    </tr>\n",
       "    <tr>\n",
       "      <th>3</th>\n",
       "      <td>korona kielce</td>\n",
       "      <td>miedz legnica</td>\n",
       "      <td>2.05</td>\n",
       "      <td>1.75</td>\n",
       "      <td>1.65</td>\n",
       "      <td>2.1</td>\n",
       "      <td>2.05</td>\n",
       "      <td>2.10</td>\n",
       "      <td>0.963995</td>\n",
       "      <td>korona kielce</td>\n",
       "      <td>miedz legnica</td>\n",
       "      <td>NaN</td>\n",
       "      <td>miedz legnica</td>\n",
       "    </tr>\n",
       "  </tbody>\n",
       "</table>\n",
       "</div>"
      ],
      "text/plain": [
       "            Team1            Team2  O_novibet  U_novibet O_stoiximan  \\\n",
       "0    richards bay  orlando pirates       2.45       1.52        1.88   \n",
       "1   lechia gdansk    slask wroclaw       2.04       1.76        1.62   \n",
       "2  chrobry glogow    miedz legnica       1.65       2.10        2.05   \n",
       "3   korona kielce    miedz legnica       2.05       1.75        1.65   \n",
       "\n",
       "  U_stoiximan  O_max  U_max       arb   Team1_novibet    Team2_novibet  \\\n",
       "0        1.82   2.45   1.82  0.957614    richards bay  orlando pirates   \n",
       "1        2.12   2.04   2.12  0.961894   lechia gdansk    slask wroclaw   \n",
       "2        1.72   2.05   2.10  0.963995  chrobry glogow    miedz legnica   \n",
       "3         2.1   2.05   2.10  0.963995   korona kielce    miedz legnica   \n",
       "\n",
       "  Team1_stoiximan  Team2_stoiximan  \n",
       "0             NaN  orlando pirates  \n",
       "1             NaN    slask wroclaw  \n",
       "2             NaN    miedz legnica  \n",
       "3             NaN    miedz legnica  "
      ]
     },
     "execution_count": 4,
     "metadata": {},
     "output_type": "execute_result"
    }
   ],
   "source": [
    "# Over/Under Arbitrage\n",
    "df_over_under = dbrun(dbcon, sq.query_over_under, football_novibet, football_stoiximan)\n",
    "df_over_under"
   ]
  },
  {
   "attachments": {},
   "cell_type": "markdown",
   "metadata": {},
   "source": [
    "#### 1.2 Football (GG-NG)"
   ]
  },
  {
   "cell_type": "code",
   "execution_count": 5,
   "metadata": {},
   "outputs": [
    {
     "data": {
      "text/html": [
       "<div>\n",
       "<style scoped>\n",
       "    .dataframe tbody tr th:only-of-type {\n",
       "        vertical-align: middle;\n",
       "    }\n",
       "\n",
       "    .dataframe tbody tr th {\n",
       "        vertical-align: top;\n",
       "    }\n",
       "\n",
       "    .dataframe thead th {\n",
       "        text-align: right;\n",
       "    }\n",
       "</style>\n",
       "<table border=\"1\" class=\"dataframe\">\n",
       "  <thead>\n",
       "    <tr style=\"text-align: right;\">\n",
       "      <th></th>\n",
       "      <th>Team1</th>\n",
       "      <th>Team2</th>\n",
       "      <th>GG_novibet</th>\n",
       "      <th>NG_novibet</th>\n",
       "      <th>GG_stoiximan</th>\n",
       "      <th>NG_stoiximan</th>\n",
       "      <th>GG_max</th>\n",
       "      <th>NG_max</th>\n",
       "      <th>arb</th>\n",
       "      <th>Team1_novibet</th>\n",
       "      <th>Team2_novibet</th>\n",
       "      <th>Team1_stoiximan</th>\n",
       "      <th>Team2_stoiximan</th>\n",
       "    </tr>\n",
       "  </thead>\n",
       "  <tbody>\n",
       "    <tr>\n",
       "      <th>0</th>\n",
       "      <td>weiche flensburg</td>\n",
       "      <td>vfb lubeck</td>\n",
       "      <td>1.45</td>\n",
       "      <td>2.55</td>\n",
       "      <td>1.75</td>\n",
       "      <td>1.95</td>\n",
       "      <td>1.75</td>\n",
       "      <td>2.55</td>\n",
       "      <td>0.963585</td>\n",
       "      <td>weiche flensburg</td>\n",
       "      <td>vfb lubeck</td>\n",
       "      <td>NaN</td>\n",
       "      <td>vfb lubeck</td>\n",
       "    </tr>\n",
       "    <tr>\n",
       "      <th>1</th>\n",
       "      <td>chrobry glogow</td>\n",
       "      <td>miedz legnica</td>\n",
       "      <td>1.58</td>\n",
       "      <td>2.25</td>\n",
       "      <td>1.83</td>\n",
       "      <td>1.87</td>\n",
       "      <td>1.83</td>\n",
       "      <td>2.25</td>\n",
       "      <td>0.990893</td>\n",
       "      <td>chrobry glogow</td>\n",
       "      <td>miedz legnica</td>\n",
       "      <td>NaN</td>\n",
       "      <td>miedz legnica</td>\n",
       "    </tr>\n",
       "  </tbody>\n",
       "</table>\n",
       "</div>"
      ],
      "text/plain": [
       "              Team1          Team2 GG_novibet NG_novibet GG_stoiximan  \\\n",
       "0  weiche flensburg     vfb lubeck       1.45       2.55         1.75   \n",
       "1    chrobry glogow  miedz legnica       1.58       2.25         1.83   \n",
       "\n",
       "  NG_stoiximan  GG_max  NG_max       arb     Team1_novibet  Team2_novibet  \\\n",
       "0         1.95    1.75    2.55  0.963585  weiche flensburg     vfb lubeck   \n",
       "1         1.87    1.83    2.25  0.990893    chrobry glogow  miedz legnica   \n",
       "\n",
       "  Team1_stoiximan Team2_stoiximan  \n",
       "0             NaN      vfb lubeck  \n",
       "1             NaN   miedz legnica  "
      ]
     },
     "execution_count": 5,
     "metadata": {},
     "output_type": "execute_result"
    }
   ],
   "source": [
    "# GG/NG Arbitrage\n",
    "df_gg_ng = dbrun(dbcon, sq.query_gg_ng, football_novibet, football_stoiximan)\n",
    "df_gg_ng"
   ]
  },
  {
   "attachments": {},
   "cell_type": "markdown",
   "metadata": {},
   "source": [
    "#### 1.3 Football (1-X-2)"
   ]
  },
  {
   "cell_type": "code",
   "execution_count": 67,
   "metadata": {},
   "outputs": [
    {
     "data": {
      "text/html": [
       "<div>\n",
       "<style scoped>\n",
       "    .dataframe tbody tr th:only-of-type {\n",
       "        vertical-align: middle;\n",
       "    }\n",
       "\n",
       "    .dataframe tbody tr th {\n",
       "        vertical-align: top;\n",
       "    }\n",
       "\n",
       "    .dataframe thead th {\n",
       "        text-align: right;\n",
       "    }\n",
       "</style>\n",
       "<table border=\"1\" class=\"dataframe\">\n",
       "  <thead>\n",
       "    <tr style=\"text-align: right;\">\n",
       "      <th></th>\n",
       "      <th>Team1</th>\n",
       "      <th>Team2</th>\n",
       "      <th>one_novibet</th>\n",
       "      <th>x_novibet</th>\n",
       "      <th>two_novibet</th>\n",
       "      <th>one_stoiximan</th>\n",
       "      <th>x_stoiximan</th>\n",
       "      <th>two_stoiximan</th>\n",
       "      <th>one_max</th>\n",
       "      <th>x_max</th>\n",
       "      <th>two_max</th>\n",
       "      <th>arb</th>\n",
       "      <th>Team1_novibet</th>\n",
       "      <th>Team2_novibet</th>\n",
       "      <th>Team1_stoiximan</th>\n",
       "      <th>Team2_stoiximan</th>\n",
       "    </tr>\n",
       "  </thead>\n",
       "  <tbody>\n",
       "    <tr>\n",
       "      <th>0</th>\n",
       "      <td>motor lublin</td>\n",
       "      <td>slask wroclaw</td>\n",
       "      <td>1.65</td>\n",
       "      <td>3.8</td>\n",
       "      <td>4.4</td>\n",
       "      <td>1.42</td>\n",
       "      <td>4.40</td>\n",
       "      <td>6.40</td>\n",
       "      <td>1.65</td>\n",
       "      <td>4.40</td>\n",
       "      <td>6.40</td>\n",
       "      <td>0.989583</td>\n",
       "      <td>motor lublin</td>\n",
       "      <td>slask wroclaw</td>\n",
       "      <td>motor lublin</td>\n",
       "      <td>slask wroclaw</td>\n",
       "    </tr>\n",
       "    <tr>\n",
       "      <th>2</th>\n",
       "      <td>manchester city</td>\n",
       "      <td>liverpool</td>\n",
       "      <td>1.66</td>\n",
       "      <td>4.4</td>\n",
       "      <td>5.7</td>\n",
       "      <td>1.64</td>\n",
       "      <td>4.52</td>\n",
       "      <td>5.91</td>\n",
       "      <td>1.66</td>\n",
       "      <td>4.52</td>\n",
       "      <td>5.91</td>\n",
       "      <td>0.992853</td>\n",
       "      <td>manchester city</td>\n",
       "      <td>liverpool</td>\n",
       "      <td>manchester city</td>\n",
       "      <td>liverpool</td>\n",
       "    </tr>\n",
       "  </tbody>\n",
       "</table>\n",
       "</div>"
      ],
      "text/plain": [
       "             Team1          Team2  one_novibet  x_novibet  two_novibet  \\\n",
       "0     motor lublin  slask wroclaw         1.65        3.8          4.4   \n",
       "2  manchester city      liverpool         1.66        4.4          5.7   \n",
       "\n",
       "   one_stoiximan  x_stoiximan  two_stoiximan  one_max  x_max  two_max  \\\n",
       "0           1.42         4.40           6.40     1.65   4.40     6.40   \n",
       "2           1.64         4.52           5.91     1.66   4.52     5.91   \n",
       "\n",
       "        arb    Team1_novibet  Team2_novibet  Team1_stoiximan Team2_stoiximan  \n",
       "0  0.989583     motor lublin  slask wroclaw     motor lublin   slask wroclaw  \n",
       "2  0.992853  manchester city      liverpool  manchester city       liverpool  "
      ]
     },
     "execution_count": 67,
     "metadata": {},
     "output_type": "execute_result"
    }
   ],
   "source": [
    "# 1/X/2 Arbitrage\n",
    "\n",
    "df_1x2 = dbrun(dbcon, sq.query_1X2, football_novibet, football_stoiximan)\n",
    "df_1x2"
   ]
  },
  {
   "attachments": {},
   "cell_type": "markdown",
   "metadata": {},
   "source": [
    "### 2. Basketball teams process"
   ]
  },
  {
   "cell_type": "code",
   "execution_count": 68,
   "metadata": {},
   "outputs": [],
   "source": [
    "# Import\n",
    "basketball_novibet = pd.read_csv('data/novibet_basketball.csv')\n",
    "basketball_stoiximan = pd.read_csv('data/stoiximan_basketball.csv')\n",
    "\n",
    "\n",
    "# Remove unicodes from teams names\n",
    "basketball_novibet['Team1'] = remove_unicode(basketball_novibet['Team1'].astype(str)).str.lower()\n",
    "basketball_novibet['Team2'] = remove_unicode(basketball_novibet['Team2'].astype(str)).str.lower()\n",
    "basketball_stoiximan['Team1'] = remove_unicode(basketball_stoiximan['Team1'].astype(str)).str.lower()\n",
    "basketball_stoiximan['Team2'] = remove_unicode(basketball_stoiximan['Team2'].astype(str)).str.lower()\n",
    "\n",
    "# Remove single/double words from teams names\n",
    "basketball_novibet['Team1'] = remove_single_double_words(basketball_novibet['Team1'].astype(str)).str.lower()\n",
    "basketball_novibet['Team2'] = remove_single_double_words(basketball_novibet['Team2'].astype(str)).str.lower()\n",
    "basketball_stoiximan['Team1'] = remove_single_double_words(basketball_stoiximan['Team1'].astype(str)).str.lower()\n",
    "basketball_stoiximan['Team2'] = remove_single_double_words(basketball_stoiximan['Team2'].astype(str)).str.lower()\n",
    "\n",
    "# DuckDB connection\n",
    "dbcon = duckdb.connect()"
   ]
  },
  {
   "attachments": {},
   "cell_type": "markdown",
   "metadata": {},
   "source": [
    "#### 2.1 Basketball (Win1-Win2)"
   ]
  },
  {
   "cell_type": "code",
   "execution_count": null,
   "metadata": {},
   "outputs": [],
   "source": [
    "# Win1/Win2 Arbitrage\n",
    "\n",
    "query_1_2\n",
    "\n",
    "\n",
    "df_1_2 = dbrun(dbcon, query_1_2, basketball_novibet, basketball_stoiximan)\n",
    "df_1_2"
   ]
  },
  {
   "cell_type": "code",
   "execution_count": null,
   "metadata": {},
   "outputs": [],
   "source": []
  },
  {
   "cell_type": "code",
   "execution_count": null,
   "metadata": {},
   "outputs": [],
   "source": []
  },
  {
   "cell_type": "code",
   "execution_count": null,
   "metadata": {},
   "outputs": [],
   "source": []
  },
  {
   "cell_type": "code",
   "execution_count": null,
   "metadata": {},
   "outputs": [],
   "source": []
  },
  {
   "cell_type": "code",
   "execution_count": null,
   "metadata": {},
   "outputs": [],
   "source": []
  },
  {
   "cell_type": "code",
   "execution_count": null,
   "metadata": {},
   "outputs": [],
   "source": []
  },
  {
   "cell_type": "code",
   "execution_count": 64,
   "metadata": {},
   "outputs": [],
   "source": [
    "from fuzzywuzzy import fuzz\n",
    "\n",
    "from fuzzywuzzy import fuzz\n",
    "\n",
    "matches = []\n",
    "for index, row in football_novibet.iterrows():\n",
    "    team1_novibet = row['team1']\n",
    "    team2_novibet = row['team2']\n",
    "    team1_stoiximan = football_stoiximan.loc[football_stoiximan['team1'].apply(lambda x: fuzz.token_sort_ratio(x, team1_novibet)) > 80, 'team1'].values\n",
    "    team2_stoiximan = football_stoiximan.loc[football_stoiximan['team2'].apply(lambda x: fuzz.token_sort_ratio(x, team2_novibet)) > 80, 'team2'].values\n",
    "    \n",
    "    if len(team1_stoiximan) > 0 and len(team2_stoiximan) > 0:\n",
    "        # both team names are similar in both dataframes\n",
    "        # create a dictionary with the data and append it to the matches list\n",
    "        match = {\n",
    "            'team1': team1_novibet,\n",
    "            'team2': team2_novibet,\n",
    "            'odds_over_novibet': row['odds_over'],\n",
    "            'odds_under_novibet': row['odds_under'],\n",
    "        }\n",
    "        \n",
    "        # check if there is a match in football_stoiximan\n",
    "        matching_row = football_stoiximan[(football_stoiximan['team1'] == team1_stoiximan[0]) & (football_stoiximan['team2'] == team2_stoiximan[0])]\n",
    "        if len(matching_row) > 0:\n",
    "            # there is a match, add the odds values to the dictionary\n",
    "            match['odds_over_stoiximan'] = matching_row['O_odds'].values[0]\n",
    "            match['odds_under_stoiximan'] = matching_row['U_odds'].values[0]\n",
    "            \n",
    "            matches.append(match)\n",
    "        else:\n",
    "            # no match, skip this row\n",
    "            continue\n",
    "\n",
    "# create a new dataframe with the matched data\n",
    "merged_df_lev = pd.DataFrame(matches)\n"
   ]
  },
  {
   "cell_type": "code",
   "execution_count": null,
   "metadata": {},
   "outputs": [],
   "source": []
  },
  {
   "cell_type": "code",
   "execution_count": null,
   "metadata": {},
   "outputs": [],
   "source": [
    "bet1 = 2.4\n",
    "bet2 = 1.59\n",
    "\n",
    "Arb_percentage = 1/bet1 + 1/bet2\n",
    "print(\"Arb_per:  {0:.3f}\".format(Arb_percentage))\n",
    "\n",
    "win_amount = 50\n",
    "\n",
    "total_outlay = (win_amount/bet1) + (win_amount/bet2)\n",
    "\n",
    "profit = win_amount - total_outlay\n",
    "roi = profit/total_outlay\n",
    "\n",
    "\n",
    "print(\"Total_outlay:  {0:.2f}\".format(total_outlay))\n",
    "print(\"Bet on 1st: '  {0:.2f}\".format(win_amount/bet1))\n",
    "print(\"Bet on 2nd: '  {0:.2f}\".format(win_amount/bet2))\n",
    "print(\"Profit:        {0:.2f}\".format(profit))\n",
    "print(\"ROI:           {0:.2f}\".format(roi))"
   ]
  },
  {
   "cell_type": "code",
   "execution_count": null,
   "metadata": {},
   "outputs": [],
   "source": []
  },
  {
   "cell_type": "code",
   "execution_count": null,
   "metadata": {},
   "outputs": [],
   "source": []
  },
  {
   "attachments": {},
   "cell_type": "markdown",
   "metadata": {},
   "source": [
    "## Testing "
   ]
  }
 ],
 "metadata": {
  "kernelspec": {
   "display_name": "base",
   "language": "python",
   "name": "python3"
  },
  "language_info": {
   "codemirror_mode": {
    "name": "ipython",
    "version": 3
   },
   "file_extension": ".py",
   "mimetype": "text/x-python",
   "name": "python",
   "nbconvert_exporter": "python",
   "pygments_lexer": "ipython3",
   "version": "3.8.12"
  },
  "orig_nbformat": 4
 },
 "nbformat": 4,
 "nbformat_minor": 2
}
