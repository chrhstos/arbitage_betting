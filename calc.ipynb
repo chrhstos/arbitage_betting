{
 "cells": [
  {
   "cell_type": "code",
   "execution_count": null,
   "metadata": {},
   "outputs": [],
   "source": [
    "bet1 = 2.4\n",
    "bet2 = 1.59\n",
    "\n",
    "Arb_percentage = 1/bet1 + 1/bet2\n",
    "print(\"Arb_per:  {0:.3f}\".format(Arb_percentage))\n",
    "\n",
    "win_amount = 50\n",
    "\n",
    "total_outlay = (win_amount/bet1) + (win_amount/bet2)\n",
    "\n",
    "profit = win_amount - total_outlay\n",
    "roi = profit/total_outlay\n",
    "\n",
    "\n",
    "print(\"Total_outlay:  {0:.2f}\".format(total_outlay))\n",
    "print(\"Bet on 1st: '  {0:.2f}\".format(win_amount/bet1))\n",
    "print(\"Bet on 2nd: '  {0:.2f}\".format(win_amount/bet2))\n",
    "print(\"Profit:        {0:.2f}\".format(profit))\n",
    "print(\"ROI:           {0:.2f}\".format(roi))"
   ]
  }
 ],
 "metadata": {
  "language_info": {
   "name": "python"
  },
  "orig_nbformat": 4
 },
 "nbformat": 4,
 "nbformat_minor": 2
}
