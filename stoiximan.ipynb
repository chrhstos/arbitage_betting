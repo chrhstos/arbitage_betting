{
 "cells": [
  {
   "cell_type": "code",
   "execution_count": 1,
   "metadata": {},
   "outputs": [],
   "source": [
    "from selenium import webdriver\n",
    "from selenium.webdriver.support.ui import WebDriverWait\n",
    "from selenium.webdriver.support import expected_conditions as EC\n",
    "from selenium.webdriver.common.by import By\n",
    "from selenium.webdriver.common.keys import Keys\n",
    "import time, csv\n",
    "import pandas as pd\n",
    "from selenium.common.exceptions import NoSuchElementException\n",
    "from selenium.webdriver.chrome.service import Service\n",
    "from webdriver_manager.chrome import ChromeDriverManager\n",
    "from selenium.webdriver.support.relative_locator import locate_with"
   ]
  },
  {
   "cell_type": "code",
   "execution_count": 12,
   "metadata": {},
   "outputs": [
    {
     "name": "stderr",
     "output_type": "stream",
     "text": [
      "C:\\Users\\panag\\AppData\\Local\\Temp/ipykernel_2272/1503906442.py:1: DeprecationWarning: executable_path has been deprecated, please pass in a Service object\n",
      "  driver = webdriver.Chrome(ChromeDriverManager().install())\n"
     ]
    }
   ],
   "source": [
    "driver = webdriver.Chrome(ChromeDriverManager().install())"
   ]
  },
  {
   "attachments": {},
   "cell_type": "markdown",
   "metadata": {},
   "source": [
    "## 1. Football"
   ]
  },
  {
   "cell_type": "code",
   "execution_count": 13,
   "metadata": {},
   "outputs": [],
   "source": [
    "football_url = 'https://en.stoiximan.gr/sport/soccer/'\n",
    "driver.get(football_url)\n",
    "cookies = WebDriverWait(driver,5).until(EC.element_to_be_clickable((By.ID, 'onetrust-accept-btn-handler'))).click()"
   ]
  },
  {
   "cell_type": "code",
   "execution_count": 14,
   "metadata": {},
   "outputs": [],
   "source": [
    "# Close Log in pop up window\n",
    "x_button = driver.find_element(By.CSS_SELECTOR, '[class=\"sb-modal__close__btn uk-modal-close-default uk-icon uk-close\"]').click()"
   ]
  },
  {
   "cell_type": "code",
   "execution_count": 25,
   "metadata": {},
   "outputs": [],
   "source": [
    "# Click 24 hours button\n",
    "button_24 = driver.find_element(By.CSS_SELECTOR, '[class=\"events-tabs-container__tab__item__button GTM-24\"]').click()"
   ]
  },
  {
   "cell_type": "code",
   "execution_count": 38,
   "metadata": {},
   "outputs": [],
   "source": [
    "### Scroll down the page and wait all values to load ###\n",
    "\n",
    "# Get initial page height\n",
    "last_height = driver.execute_script('window,scrollTo(0,document.body.scrollHeight)')\n",
    "\n",
    "while True:\n",
    "    # Wait for new values to load\n",
    "    time.sleep(3)\n",
    "    # Calculate the new height of the page and check if it has changed\n",
    "    new_height = driver.execute_script('window,scrollTo(0,document.body.scrollHeight)')\n",
    "    if new_height == last_height:\n",
    "        # if the page height hasn't changed, exit the loop\n",
    "        break\n",
    "    else:\n",
    "        # If the page height has changed, update the last height and continue scrolling\n",
    "        last_height = new_height\n",
    "\n",
    "\n",
    "# Wait for the dailyCoupon_body element to be present on the page\n",
    "wait = WebDriverWait(driver, 10)\n",
    "# By deafult is the football first\n",
    "daily_coupon_body = wait.until(EC.visibility_of_element_located((By.CSS_SELECTOR, '[class=\"grid__column grid__column--fluid grid__column--main\"]')))\n",
    "\n",
    "# Extract footbal text\n",
    "football_string = daily_coupon_body.text"
   ]
  },
  {
   "cell_type": "code",
   "execution_count": 53,
   "metadata": {},
   "outputs": [],
   "source": [
    "# Create list from the initial string\n",
    "initial_list = football_string.split('\\n')\n",
    "\n",
    "# Remove first elements of the list not needed\n",
    "remove_elements = ['Home Soccer Next 24 Hours Full Coupon', 'Soccer - Complete Coupon',\n",
    " 'All', '3 hours', '12 hours','24 hours','By start time','By Competition',\n",
    " 'Soccer - Matches in the next 24 hours','Matches','1','X','2','O/U 2.5','GG/NG','0%','1st leg']\n",
    "list_1 = [x for x in initial_list if x not in remove_elements]\n",
    "\n",
    "# Remove elements that start with \"1st leg\"\n",
    "football_list = [x for x in list_1 if not x.startswith('1st leg:')]"
   ]
  },
  {
   "cell_type": "code",
   "execution_count": 75,
   "metadata": {},
   "outputs": [],
   "source": [
    "# Create sublists based on date (matches)\n",
    "match = [x for x in football_list if '/' in x]\n",
    "index_match = [i for i,x in enumerate(football_list) if '/' in x]\n",
    "sublists_matches = [football_list[i:j] for i, j in zip([0]+index_match, index_match + [len(football_list)])]\n",
    "\n",
    "# Exclude the initial empty list from sublist_championships\n",
    "sublists_matches = sublists_matches[1:]\n",
    "\n",
    "# Remove the last element of each sublist (extra bets)\n",
    "for sublist in sublists_matches:\n",
    "    sublist.pop()\n",
    "\n",
    "# Add extra elements for the missing bets\n",
    "extra_element = 'No_bet'\n",
    "for sublist in sublists_matches:\n",
    "    if len(sublist) < 15:\n",
    "        sublist.extend([extra_element] * (15 - len(sublist)))"
   ]
  },
  {
   "cell_type": "code",
   "execution_count": 81,
   "metadata": {},
   "outputs": [],
   "source": [
    "columns = ['date', 'time', 'team1', 'team2', '1', 'X', '2', 'O', 'O_odds', 'U', 'U_odds', 'Yes', 'Yes_odds', 'No', 'No_odds']\n",
    "\n",
    "df_football = pd.DataFrame(sublists_matches, columns=columns)"
   ]
  },
  {
   "attachments": {},
   "cell_type": "markdown",
   "metadata": {},
   "source": [
    "## 2. Basketball"
   ]
  }
 ],
 "metadata": {
  "kernelspec": {
   "display_name": "base",
   "language": "python",
   "name": "python3"
  },
  "language_info": {
   "codemirror_mode": {
    "name": "ipython",
    "version": 3
   },
   "file_extension": ".py",
   "mimetype": "text/x-python",
   "name": "python",
   "nbconvert_exporter": "python",
   "pygments_lexer": "ipython3",
   "version": "3.8.12"
  },
  "orig_nbformat": 4
 },
 "nbformat": 4,
 "nbformat_minor": 2
}
